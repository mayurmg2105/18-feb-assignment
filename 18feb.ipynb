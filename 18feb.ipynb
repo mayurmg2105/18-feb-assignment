{
 "cells": [
  {
   "cell_type": "code",
   "execution_count": null,
   "id": "070ed383-d897-4512-bb61-8e7dadbb0031",
   "metadata": {},
   "outputs": [],
   "source": [
    "# Q1 What is an API? Give an example, where an API is used in real life."
   ]
  },
  {
   "cell_type": "code",
   "execution_count": null,
   "id": "72a82b86-206d-4ccf-b56a-fffa95d41159",
   "metadata": {},
   "outputs": [],
   "source": [
    "# Ans= API stands for Application Programming Interface. It is a set of protocols, routines, and tools for building software applications. APIs allow different software systems to communicate with each other and exchange information, even if they are built using different programming languages, operating systems, or platforms.\n",
    "#Real Life Example of one stock market API is the Alpha Vantage API. This API provides real-time and historical stock market data, as well as technical indicators and other financial data, for stocks, ETFs, mutual funds, and cryptocurrencies.\n",
    "#Developers can use the Alpha Vantage API to build financial applications that require stock market data, such as stock trading platforms, portfolio trackers, and investment research tools. The API provides various endpoints to retrieve different types of data, including real-time stock quotes, intraday stock prices, daily stock prices, and stock performance metrics like moving averages, relative strength index (RSI), and Bollinger Bands.\n",
    "#Other examples of stock market APIs include the Yahoo Finance API, IEX Cloud API, and the Google Finance API (although this one is no longer actively maintained). These APIs provide similar functionality, allowing developers to access financial data for use in their applications."
   ]
  },
  {
   "cell_type": "code",
   "execution_count": 1,
   "id": "0310826f-e255-49cf-aa63-ceceaf2ce7ac",
   "metadata": {},
   "outputs": [
    {
     "name": "stdout",
     "output_type": "stream",
     "text": [
      "Requirement already satisfied: requests in /opt/conda/lib/python3.10/site-packages (2.28.1)\n",
      "Requirement already satisfied: certifi>=2017.4.17 in /opt/conda/lib/python3.10/site-packages (from requests) (2022.12.7)\n",
      "Requirement already satisfied: charset-normalizer<3,>=2 in /opt/conda/lib/python3.10/site-packages (from requests) (2.1.1)\n",
      "Requirement already satisfied: urllib3<1.27,>=1.21.1 in /opt/conda/lib/python3.10/site-packages (from requests) (1.26.13)\n",
      "Requirement already satisfied: idna<4,>=2.5 in /opt/conda/lib/python3.10/site-packages (from requests) (3.4)\n",
      "Note: you may need to restart the kernel to use updated packages.\n"
     ]
    }
   ],
   "source": [
    "%pip install requests"
   ]
  },
  {
   "cell_type": "code",
   "execution_count": 2,
   "id": "f73bfc47-4081-4c5d-a75b-32a1d44f426d",
   "metadata": {},
   "outputs": [
    {
     "name": "stdout",
     "output_type": "stream",
     "text": [
      "{'Information': 'Thank you for using Alpha Vantage! This is a premium endpoint. You may subscribe to any of the premium plans at https://www.alphavantage.co/premium/ to instantly unlock all premium endpoints'}\n"
     ]
    }
   ],
   "source": [
    "import requests\n",
    "\n",
    "ticker = 'SBIN.BSE'\n",
    "url = 'https://www.alphavantage.co/query?function=TIME_SERIES_DAILY_ADJUSTED&symbol='+ ticker +'&apikey=HZ8QGOLXW2U01N2E'\n",
    "r = requests.get(url)\n",
    "data = r.json()\n",
    "\n",
    "print(data)"
   ]
  },
  {
   "cell_type": "code",
   "execution_count": 3,
   "id": "f8d063f4-fc86-4ed7-9977-cc0f3b5c2a17",
   "metadata": {},
   "outputs": [
    {
     "ename": "KeyError",
     "evalue": "'Time Series (Daily)'",
     "output_type": "error",
     "traceback": [
      "\u001b[0;31m---------------------------------------------------------------------------\u001b[0m",
      "\u001b[0;31mKeyError\u001b[0m                                  Traceback (most recent call last)",
      "Cell \u001b[0;32mIn[3], line 2\u001b[0m\n\u001b[1;32m      1\u001b[0m \u001b[38;5;66;03m# Getting dates from Time Series Daily\u001b[39;00m\n\u001b[0;32m----> 2\u001b[0m dates \u001b[38;5;241m=\u001b[39m \u001b[38;5;28mlist\u001b[39m(\u001b[43mdata\u001b[49m\u001b[43m[\u001b[49m\u001b[38;5;124;43m'\u001b[39;49m\u001b[38;5;124;43mTime Series (Daily)\u001b[39;49m\u001b[38;5;124;43m'\u001b[39;49m\u001b[43m]\u001b[49m\u001b[38;5;241m.\u001b[39mkeys())\n\u001b[1;32m      3\u001b[0m dates[\u001b[38;5;241m0\u001b[39m:\u001b[38;5;241m5\u001b[39m]\n",
      "\u001b[0;31mKeyError\u001b[0m: 'Time Series (Daily)'"
     ]
    }
   ],
   "source": [
    "# Getting dates from Time Series Daily\n",
    "dates = list(data['Time Series (Daily)'].keys())\n",
    "dates[0:5]"
   ]
  },
  {
   "cell_type": "code",
   "execution_count": 4,
   "id": "f4cdcb14-bb5b-4655-8c18-4f584fca0640",
   "metadata": {},
   "outputs": [
    {
     "ename": "KeyError",
     "evalue": "'Time Series (Daily)'",
     "output_type": "error",
     "traceback": [
      "\u001b[0;31m---------------------------------------------------------------------------\u001b[0m",
      "\u001b[0;31mKeyError\u001b[0m                                  Traceback (most recent call last)",
      "Cell \u001b[0;32mIn[4], line 1\u001b[0m\n\u001b[0;32m----> 1\u001b[0m prices \u001b[38;5;241m=\u001b[39m \u001b[38;5;28mlist\u001b[39m(\u001b[43mdata\u001b[49m\u001b[43m[\u001b[49m\u001b[38;5;124;43m'\u001b[39;49m\u001b[38;5;124;43mTime Series (Daily)\u001b[39;49m\u001b[38;5;124;43m'\u001b[39;49m\u001b[43m]\u001b[49m\u001b[38;5;241m.\u001b[39mvalues())\n\u001b[1;32m      2\u001b[0m prices[\u001b[38;5;241m0\u001b[39m:\u001b[38;5;241m2\u001b[39m]\n",
      "\u001b[0;31mKeyError\u001b[0m: 'Time Series (Daily)'"
     ]
    }
   ],
   "source": [
    "prices = list(data['Time Series (Daily)'].values())\n",
    "prices[0:2]"
   ]
  },
  {
   "cell_type": "code",
   "execution_count": null,
   "id": "79f8dbff-64f9-4308-aa24-4d264228f3dc",
   "metadata": {},
   "outputs": [],
   "source": [
    "open = []\n",
    "high = []\n",
    "low = []\n",
    "close = []\n",
    "adj_close = []\n",
    "volume = []\n",
    "for i in prices:\n",
    "    open.append(float(i['1. open']))\n",
    "    high.append(float(i['2. high']))\n",
    "    low.append(float(i['3. low']))\n",
    "    close.append(float(i['4. close']))\n",
    "    adj_close.append(float(i['5. adjusted close']))\n",
    "    volume.append(float(i['6. volume'])"
   ]
  },
  {
   "cell_type": "code",
   "execution_count": null,
   "id": "3223fe5a-7d73-49ba-9637-e16d0a80df62",
   "metadata": {},
   "outputs": [],
   "source": [
    "# Saving into Dataframe\n",
    "import pandas as pd\n",
    "df_sbin = pd.DataFrame({'open':open,'high':high, 'low':low, 'close':close,'adj_close':adj_close, 'volume':volume})\n",
    "df_sbin.index = dates\n",
    "df_sbin = df_sbin.iloc[::-1]"
   ]
  },
  {
   "cell_type": "code",
   "execution_count": null,
   "id": "f6941832-83fe-43db-b48b-23e9b6661368",
   "metadata": {},
   "outputs": [],
   "source": [
    "df_sbin.head()"
   ]
  },
  {
   "cell_type": "code",
   "execution_count": null,
   "id": "fe0e40f5-2964-4bfb-964f-f41ee261626b",
   "metadata": {},
   "outputs": [],
   "source": []
  },
  {
   "cell_type": "code",
   "execution_count": null,
   "id": "963eafd8-6ae6-44fa-b626-6a089988cb6c",
   "metadata": {},
   "outputs": [],
   "source": [
    "# Q2 Q2. Give advantages and disadvantages of using API.\n"
   ]
  },
  {
   "cell_type": "code",
   "execution_count": null,
   "id": "54994773-5a8e-4e00-baf4-874543dec5a8",
   "metadata": {},
   "outputs": [],
   "source": [
    "# Ans\n",
    "# Advantages of using API:\n",
    "# Interoperability: APIs enable different software systems to interact with each other seamlessly, regardless of their underlying technologies or programming languages. This allows for greater interoperability between systems and can lead to more efficient and effective software development.\n",
    "\n",
    "# Flexibility: APIs allow developers to create applications that are flexible and customizable. Developers can choose the specific functionality they need from an API and incorporate it into their applications, rather than building that functionality from scratch.\n",
    "\n",
    "# Time and cost savings: APIs can save time and money for developers and organizations by providing ready-made solutions that can be easily integrated into existing systems. This can reduce the amount of time and resources needed to build new software applications.\n",
    "\n",
    "# Innovation: APIs can spur innovation by allowing developers to create new applications that integrate with existing systems. This can lead to the development of new products and services that might not have been possible without APIs.\n",
    "\n",
    "#Disadvantages of using API:\n",
    "\n",
    "#Complexity: APIs can be complex to use and require technical expertise to implement and maintain. This can make it challenging for non-technical users to integrate with them.\n",
    "\n",
    "#Security Risks: APIs can introduce security risks, such as data breaches or unauthorized access to sensitive data, if not implemented properly or if security protocols are not followed.\n",
    "\n",
    "# Dependency: When an application relies heavily on a third-party API, it can create a dependency on that API. Any changes or disruptions to the API can have a significant impact on the application, leading to downtime or other issues.\n",
    "\n",
    "# Limited functionality: APIs may not always provide all the functionality needed for a particular application. In such cases, developers may need to build custom solutions, which can be time-consuming and costly."
   ]
  },
  {
   "cell_type": "code",
   "execution_count": null,
   "id": "ed09885e-fa9c-4339-80db-44160abb4fd4",
   "metadata": {},
   "outputs": [],
   "source": [
    "# Question 3: What is a Web API? Differentiate between API and Web API."
   ]
  },
  {
   "cell_type": "code",
   "execution_count": null,
   "id": "f873dd24-a667-4848-964e-e29474870d94",
   "metadata": {},
   "outputs": [],
   "source": [
    "# Answer \n",
    "\n",
    "# A Web API, also known as a web service, is a type of API that is accessed over the web using HTTP requests and responses. Web APIs allow applications to exchange data with web servers and access resources such as databases, file systems, or other services.\n",
    "# The main difference between an API and a Web API is that APIs can be accessed through different channels, including desktop applications, mobile apps, and embedded systems, whereas Web APIs are specifically designed to be accessed over the web using HTTP.\n",
    "\n",
    "# Another difference is that Web APIs often use standard web technologies such as REST (Representational State Transfer) or SOAP (Simple Object Access Protocol) to exchange data between systems, while APIs may use a variety of communication protocols and data formats depending on their design."
   ]
  },
  {
   "cell_type": "code",
   "execution_count": null,
   "id": "1c41ac12-97f4-4205-a5ce-1ef92e8df305",
   "metadata": {},
   "outputs": [],
   "source": [
    "Differences between API and Web API are as per below:\n",
    "Features\tAPI\tWeb API\n",
    "Access\tCan be accessed through various channels, including desktop applications, mobile apps, and embedded systems\tSpecifically designed to be accessed over the web using HTTP\n",
    "Protocol\tMay use different communication protocols and data formats depending on their design\tTypically use standard web technologies such as REST or SOAP\n",
    "Resource\tCan provide access to various types of services and resources, such as operating system functions, hardware devices, or databases\tProvide access to web-based services and resources such as databases, file systems, or other web services\n",
    "Integration\tCan be integrated with a wide range of software systems and applications\tOften integrated with web-based software systems and applications\n",
    "Security\tSecurity protocols can vary depending on the design and implementation of the API\tTypically use standard web security protocols such as OAuth or SSL/TLS\n",
    "Examples\tOperating system APIs, hardware APIs, database APIs, etc.\tAlphaVantage API, Google Maps API, Twitter API, Facebook API, etc.\n",
    "\n"
   ]
  },
  {
   "cell_type": "code",
   "execution_count": null,
   "id": "b8541aa6-9496-4ddc-bad2-663162b9041b",
   "metadata": {},
   "outputs": [],
   "source": [
    "# Question 4: Explain REST and SOAP Architecture. Mention shortcomings of SOAP."
   ]
  },
  {
   "cell_type": "code",
   "execution_count": null,
   "id": "bfc26eba-bced-4c40-9bda-29241c932541",
   "metadata": {},
   "outputs": [],
   "source": [
    "# Answer\n",
    "REST and SOAP are two different architectural styles for designing web services.\n",
    "REST (Representational State Transfer) is an architectural style that emphasizes the use of HTTP methods and resource URIs (Uniform Resource Identifiers) to represent and manipulate web resources. RESTful APIs typically use standard HTTP methods such as GET, POST, PUT, and DELETE to retrieve, create, update, and delete resources. REST is lightweight and scalable, and can be easily implemented using simple HTTP protocols.\n",
    "\n",
    "SOAP (Simple Object Access Protocol), on the other hand, is a protocol that defines a standard format for exchanging structured data between applications over the internet. SOAP relies on XML (Extensible Markup Language) as its messaging format, and typically uses the HTTP or SMTP (Simple Mail Transfer Protocol) protocols for communication. SOAP is highly structured and can be used for complex operations, but can also be more cumbersome to implement and use than RESTful APIs.\n",
    "\n",
    "Shortcomings of SOAP\n",
    "One of the main shortcomings of SOAP is its complexity. SOAP relies on a complex XML schema that can be difficult to read and understand, and the protocol itself can be cumbersome to implement and use. SOAP also tends to be more resource-intensive than RESTful APIs, which can make it less suitable for high-volume or low-bandwidth environments.\n",
    "\n",
    "Additionally, SOAP can be less flexible than REST, as it requires a strict adherence to a predefined interface and message format. This can make it difficult to customize or extend SOAP-based APIs to suit specific use cases or applications."
   ]
  },
  {
   "cell_type": "code",
   "execution_count": null,
   "id": "2b4fc768-d280-44f5-ad45-0fe7522600a7",
   "metadata": {},
   "outputs": [],
   "source": [
    "# Q5 Differentiate between REST and SOAP\n"
   ]
  },
  {
   "cell_type": "code",
   "execution_count": null,
   "id": "3e754d19-9a5d-41e4-9876-5374114160bc",
   "metadata": {},
   "outputs": [],
   "source": [
    "#ans\n"
   ]
  }
 ],
 "metadata": {
  "kernelspec": {
   "display_name": "Python 3 (ipykernel)",
   "language": "python",
   "name": "python3"
  },
  "language_info": {
   "codemirror_mode": {
    "name": "ipython",
    "version": 3
   },
   "file_extension": ".py",
   "mimetype": "text/x-python",
   "name": "python",
   "nbconvert_exporter": "python",
   "pygments_lexer": "ipython3",
   "version": "3.10.8"
  }
 },
 "nbformat": 4,
 "nbformat_minor": 5
}
